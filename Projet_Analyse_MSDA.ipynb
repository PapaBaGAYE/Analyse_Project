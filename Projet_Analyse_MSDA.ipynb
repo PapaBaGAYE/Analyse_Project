{
  "nbformat": 4,
  "nbformat_minor": 0,
  "metadata": {
    "colab": {
      "name": "Projet Analyse MSDA.ipynb",
      "provenance": [],
      "collapsed_sections": []
    },
    "kernelspec": {
      "name": "python3",
      "display_name": "Python 3"
    },
    "language_info": {
      "name": "python"
    }
  },
  "cells": [
    {
      "cell_type": "markdown",
      "metadata": {
        "id": "rqCsXhMBVKO4"
      },
      "source": [
        "# Projet 2 Analyse\n",
        "\n",
        "Projet réalisé par :\n",
        "\n",
        "<b>\n",
        "  <ul>\n",
        "    <li>Papa Ba GAYE</li>\n",
        "    <li>Ndeye Mareme NGOM</li>\n",
        "    <li>Cherif Assane Fall MBENGUE</li>\n",
        "    <li>Mamadou NGOM</li>\n",
        "    <li>Ibrahima CAMARA</li>\n",
        "    <li>Abdou Karim SOW</li>\n",
        "    <li>Chamsidine DIATTA</li>\n",
        "    <li>Adama CISSE</li>\n",
        "  </ul>\n",
        "</b>"
      ]
    },
    {
      "cell_type": "markdown",
      "metadata": {
        "id": "eoTJvsHS13l3"
      },
      "source": [
        "**Importation des modules**"
      ]
    },
    {
      "cell_type": "code",
      "metadata": {
        "id": "qUI3hkUL6oOX"
      },
      "source": [
        "import numpy as np\n",
        "import matplotlib.pyplot as plt\n",
        "from scipy.linalg import hilbert"
      ],
      "execution_count": 22,
      "outputs": []
    },
    {
      "cell_type": "markdown",
      "metadata": {
        "id": "iCxImyDx1zzQ"
      },
      "source": [
        "1 - Fonction **cramer**"
      ]
    },
    {
      "cell_type": "code",
      "metadata": {
        "id": "M56MFRoWIjn3"
      },
      "source": [
        "def cramer(matrice, vecteur):\n",
        "  if matrice.shape[0] == vecteur.shape[1]:\n",
        "    n = matrice.shape[0]\n",
        "    Mat = []\n",
        "    sol = []\n",
        "    for i in range(n):\n",
        "      Mat.append(matrice.copy().T)\n",
        "    \n",
        "    for i in Mat:\n",
        "      for j in range(n):\n",
        "        Mat[j][j] = vecteur\n",
        "    detP = np.linalg.det(matrice)\n",
        "\n",
        "    for i in range(len(Mat)):\n",
        "      sol.append(np.linalg.det(Mat[i]) / detP)\n",
        "    sol = np.array([sol])\n",
        "    return sol\n",
        "  else:\n",
        "    print('Le nombre de ligne de la matrice A doit etre égale au nombre de colonne deu vecteur b')"
      ],
      "execution_count": 23,
      "outputs": []
    },
    {
      "cell_type": "code",
      "metadata": {
        "id": "TYPPHv6NtTEv"
      },
      "source": [
        "# Creation de la matrice de hilbert\n",
        "matrice_hil = hilbert(5)\n",
        "\n",
        "vect = np.array([[1]*5])"
      ],
      "execution_count": 24,
      "outputs": []
    },
    {
      "cell_type": "code",
      "metadata": {
        "colab": {
          "base_uri": "https://localhost:8080/"
        },
        "id": "NSi11DYuKRE6",
        "outputId": "2751a805-e729-4a2e-fb50-8a83cf79d37a"
      },
      "source": [
        "print('Solution cramer')\n",
        "print(cramer(matrice_hil, vect))"
      ],
      "execution_count": 25,
      "outputs": [
        {
          "output_type": "stream",
          "name": "stdout",
          "text": [
            "Solution cramer\n",
            "[[    5.  -120.   630. -1120.   630.]]\n"
          ]
        }
      ]
    },
    {
      "cell_type": "markdown",
      "metadata": {
        "id": "2kFttBMl1tMc"
      },
      "source": [
        "2 - Fonction **decente**"
      ]
    },
    {
      "cell_type": "code",
      "metadata": {
        "id": "d6gGYulM42yX"
      },
      "source": [
        "def decente_lu(A, b):\n",
        "  A = np.tril(A, k=0)\n",
        "  A[np.diag_indices_from(A)] = 1\n",
        "  return cramer(A, b)"
      ],
      "execution_count": 26,
      "outputs": []
    },
    {
      "cell_type": "code",
      "metadata": {
        "id": "lngcPV6RVybV"
      },
      "source": [
        "A = np.array([[3, 2, 1],\n",
        "              [5, 1, -1],\n",
        "              [1, -3, 5]])\n",
        "\n",
        "B = np.array([[1, 6, -4]])"
      ],
      "execution_count": 27,
      "outputs": []
    },
    {
      "cell_type": "code",
      "metadata": {
        "colab": {
          "base_uri": "https://localhost:8080/"
        },
        "id": "airsXnilpWPi",
        "outputId": "843311d1-7db1-42bd-f4ba-d28592c61fdc"
      },
      "source": [
        "print(\"Solution decente_lu\")\n",
        "print(decente_lu(A, B))"
      ],
      "execution_count": 28,
      "outputs": [
        {
          "output_type": "stream",
          "name": "stdout",
          "text": [
            "Solution decente_lu\n",
            "[[ 1.  1. -2.]]\n"
          ]
        }
      ]
    },
    {
      "cell_type": "markdown",
      "metadata": {
        "id": "C8xak1a-1p5W"
      },
      "source": [
        "3 - Fonction **remontee**"
      ]
    },
    {
      "cell_type": "code",
      "metadata": {
        "id": "U5yIyGFJptFv"
      },
      "source": [
        "def remontee(A, b):\n",
        "  A = np.triu(A, k=0)\n",
        "  return cramer(A, b)"
      ],
      "execution_count": 29,
      "outputs": []
    },
    {
      "cell_type": "code",
      "metadata": {
        "colab": {
          "base_uri": "https://localhost:8080/"
        },
        "id": "vR1pi5n3p73H",
        "outputId": "458c803b-09b6-4594-d95d-18c95bef0ec4"
      },
      "source": [
        "print(\"Solution remontee\")\n",
        "print(remontee(A, B))"
      ],
      "execution_count": 30,
      "outputs": [
        {
          "output_type": "stream",
          "name": "stdout",
          "text": [
            "Solution remontee\n",
            "[[-2.86666667  5.2        -0.8       ]]\n"
          ]
        }
      ]
    },
    {
      "cell_type": "markdown",
      "metadata": {
        "id": "9UVOiGv-1gPl"
      },
      "source": [
        "4 - Fonction **facto_LU**"
      ]
    },
    {
      "cell_type": "code",
      "metadata": {
        "id": "oYhjltX26nI7"
      },
      "source": [
        "def facto_LU(A):\n",
        "  n = A.shape[0]\n",
        "  U = np.copy(A)\n",
        "  L = np.eye(n)\n",
        "  for i in range(n) :\n",
        "    p = U[i,i]\n",
        "    for j in range(i+1, n):\n",
        "      L[j,i] = U[j,i]/p\n",
        "      U[j] = U[j] - L[j,i] * U[i]\n",
        "  return L,U"
      ],
      "execution_count": 31,
      "outputs": []
    },
    {
      "cell_type": "code",
      "metadata": {
        "id": "1-tuFePc6_2L"
      },
      "source": [
        "X = np.array([[2., 4., 5., 6.],\n",
        "              [-1., 2., 8.5, 1.],\n",
        "              [3., 8., 3., -3.],\n",
        "              [5., 2., 1.5, 6.4]])"
      ],
      "execution_count": 32,
      "outputs": []
    },
    {
      "cell_type": "code",
      "metadata": {
        "id": "zxRCPuxn-Shj",
        "colab": {
          "base_uri": "https://localhost:8080/"
        },
        "outputId": "9f3fbe59-487a-4c09-f60f-51b9c4828f34"
      },
      "source": [
        "print(\"Factorisation LU\")\n",
        "Q = facto_LU(X)\n",
        "print(f'L : \\n{Q[0]}')\n",
        "print('')\n",
        "print(f'U : \\n{Q[1]}')"
      ],
      "execution_count": 33,
      "outputs": [
        {
          "output_type": "stream",
          "name": "stdout",
          "text": [
            "Factorisation LU\n",
            "L : \n",
            "[[ 1.   0.   0.   0. ]\n",
            " [-0.5  1.   0.   0. ]\n",
            " [ 1.5  0.5  1.   0. ]\n",
            " [ 2.5 -2.  -1.1  1. ]]\n",
            "\n",
            "U : \n",
            "[[  2.   4.   5.   6.]\n",
            " [  0.   4.  11.   4.]\n",
            " [  0.   0. -10. -14.]\n",
            " [  0.   0.   0. -16.]]\n"
          ]
        }
      ]
    },
    {
      "cell_type": "code",
      "metadata": {
        "colab": {
          "base_uri": "https://localhost:8080/"
        },
        "id": "_RFe2zuqTurN",
        "outputId": "e6e2bf0c-22ea-44b6-8ead-622e8d98c25e"
      },
      "source": [
        "# Vérification par le produit matriciel\n",
        "print(\"Resultat Verification\")\n",
        "print(Q[0] @ Q[1])"
      ],
      "execution_count": 34,
      "outputs": [
        {
          "output_type": "stream",
          "name": "stdout",
          "text": [
            "Resultat Verification\n",
            "[[ 2.   4.   5.   6. ]\n",
            " [-1.   2.   8.5  1. ]\n",
            " [ 3.   8.   3.  -3. ]\n",
            " [ 5.   2.   1.5  6.4]]\n"
          ]
        }
      ]
    },
    {
      "cell_type": "markdown",
      "metadata": {
        "id": "vSPT1tiwItmE"
      },
      "source": [
        "5 - **Fonction resol_LU** <br>\n",
        "Avec la factorisation sous forme LU l'équation Ax = <=> LUx = b.\n",
        "On pose Ux = y => Ly = b\n",
        "\n"
      ]
    },
    {
      "cell_type": "code",
      "metadata": {
        "id": "-wMh3xoOJ_yw"
      },
      "source": [
        "def resol_LU(A, b):\n",
        "  LU = facto_LU(A)\n",
        "  desc = decente_lu(LU[0], b)\n",
        "  solution = remontee(LU[1], desc)\n",
        "  return solution\n"
      ],
      "execution_count": 35,
      "outputs": []
    },
    {
      "cell_type": "code",
      "metadata": {
        "id": "xd-SwNvC2PJR"
      },
      "source": [
        "A = np.array([[0.3, 0.52, 1],\n",
        "              [0.5, 1, 1.9],\n",
        "              [0.1, 0.3, 0.5]])\n",
        "\n",
        "B = np.array([[-0.01, 0.67, -0.44]])"
      ],
      "execution_count": 36,
      "outputs": []
    },
    {
      "cell_type": "code",
      "metadata": {
        "colab": {
          "base_uri": "https://localhost:8080/"
        },
        "id": "0N0ek6qd5kDW",
        "outputId": "2bfe8f6b-1c3b-4e3a-ef25-3ec3e9d706bb"
      },
      "source": [
        "print(\"Solution resol_LU\")\n",
        "print(resol_LU(A, B))"
      ],
      "execution_count": 37,
      "outputs": [
        {
          "output_type": "stream",
          "name": "stdout",
          "text": [
            "Solution resol_LU\n",
            "[[-14.9 -29.5  19.8]]\n"
          ]
        }
      ]
    },
    {
      "cell_type": "markdown",
      "metadata": {
        "id": "Wp-u5pKYXTGH"
      },
      "source": [
        "## **Question6** "
      ]
    },
    {
      "cell_type": "code",
      "metadata": {
        "id": "5Pakv1KDUwuF"
      },
      "source": [
        "tab_error1 = []\n",
        "for n in range(1,26):\n",
        "  # print(f\"value of n {n}\")\n",
        "  mat = hilbert(n)\n",
        "  vector = np.array([[1]*n])\n",
        "  sol1 = cramer(mat,vector)\n",
        "  error1 = np.linalg.norm(sol1-vector)\n",
        "  tab_error1.append(error1)\n",
        "  # print(f\"Error with cramer {error1}\")"
      ],
      "execution_count": 38,
      "outputs": []
    },
    {
      "cell_type": "code",
      "metadata": {
        "colab": {
          "base_uri": "https://localhost:8080/",
          "height": 499
        },
        "id": "kwRyOwGhYCrw",
        "outputId": "6ef79154-877f-421a-d0b0-5bafe0f87e4c"
      },
      "source": [
        "plt.figure(figsize=(15, 8))\n",
        "plt.plot(tab_error1)\n",
        "plt.title('Erreurs en norme avec la formule de Cramer')\n",
        "plt.show()"
      ],
      "execution_count": 39,
      "outputs": [
        {
          "output_type": "display_data",
          "data": {
            "image/png": "[encoded data removed]",
            "text/plain": [
              "<Figure size 1080x576 with 1 Axes>"
            ]
          },
          "metadata": {
            "needs_background": "light"
          }
        }
      ]
    },
    {
      "cell_type": "code",
      "metadata": {
        "id": "8jDCxTtjhFL8"
      },
      "source": [
        "tab_error2 = []\n",
        "for n in range(1,26):\n",
        "  # print(f\"value of n {n}\")\n",
        "  mat = hilbert(n)\n",
        "  vector = np.array([[1]*n])\n",
        "  sol1 = resol_LU(mat,vector)\n",
        "  error1 = np.linalg.norm(sol1-vector)\n",
        "  tab_error2.append(error1)\n",
        "  # print(f\"Error with cramer {error2}\")"
      ],
      "execution_count": 40,
      "outputs": []
    },
    {
      "cell_type": "code",
      "metadata": {
        "colab": {
          "base_uri": "https://localhost:8080/",
          "height": 499
        },
        "id": "WvxgxSRWZA3O",
        "outputId": "14ffb1d2-bb1f-482b-a18a-1148504c7e8a"
      },
      "source": [
        "plt.figure(figsize=(15, 8))\n",
        "plt.plot(tab_error2)\n",
        "plt.title('Erreurs en norme avec la factorisation LU')\n",
        "plt.show()"
      ],
      "execution_count": 41,
      "outputs": [
        {
          "output_type": "display_data",
          "data": {
            "image/png": "[encoded data removed]",
            "text/plain": [
              "<Figure size 1080x576 with 1 Axes>"
            ]
          },
          "metadata": {
            "needs_background": "light"
          }
        }
      ]
    }
  ]
}